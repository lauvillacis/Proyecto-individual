{
 "cells": [
  {
   "cell_type": "code",
   "execution_count": 1,
   "id": "2d004561",
   "metadata": {},
   "outputs": [],
   "source": [
    "from Sudoku import Sudoku as Sudoku\n",
    "from Sudoku import Juego as Juego"
   ]
  },
  {
   "cell_type": "code",
   "execution_count": 9,
   "id": "5ee85357",
   "metadata": {},
   "outputs": [
    {
     "name": "stdout",
     "output_type": "stream",
     "text": [
      "El tablero original es:\n",
      ". 1 9 3 . 6 . 2 7\n",
      "7 . . . 8 4 3 . 6\n",
      ". . . . 2 9 5 4 1\n",
      "6 . 4 5 7 1 . . .\n",
      ". . . . . 3 7 1 5\n",
      "1 . . . . 2 . 3 4\n",
      "3 8 . 4 1 . . . 9\n",
      ". 4 2 . 3 . . 6 .\n",
      "9 7 . . . . 4 . .\n",
      "\n",
      "\n",
      "El sudoku resuelto con Backtracking:\n",
      "4 1 9 3 5 6 8 2 7\n",
      "7 2 5 1 8 4 3 9 6\n",
      "8 6 3 7 2 9 5 4 1\n",
      "6 3 4 5 7 1 9 8 2\n",
      "2 9 8 6 4 3 7 1 5\n",
      "1 5 7 8 9 2 6 3 4\n",
      "3 8 6 4 1 5 2 7 9\n",
      "5 4 2 9 3 7 1 6 8\n",
      "9 7 1 2 6 8 4 5 3\n",
      "\n",
      "\n",
      "El sudoku resuelto como Basic Filler:\n",
      "4 1 9 3 5 6 8 2 7\n",
      "7 2 5 1 8 4 3 9 6\n",
      "8 6 3 7 2 9 5 4 1\n",
      "6 3 4 5 7 1 9 8 2\n",
      "2 9 8 6 4 3 7 1 5\n",
      "1 5 7 8 9 2 6 3 4\n",
      "3 8 6 4 1 5 2 7 9\n",
      "5 4 2 9 3 7 1 6 8\n",
      "9 7 1 2 6 8 4 5 3\n",
      "\n",
      "\n",
      "True\n"
     ]
    }
   ],
   "source": [
    "sudoku = Sudoku([],[],[],[],0)\n",
    "sudoku.generador_sudoku(2)\n",
    "print('El tablero original es:')\n",
    "sudoku.imprimir_sudoku(sudoku.sudoku)\n",
    "print('El sudoku resuelto con Backtracking:')\n",
    "sudoku.backtracking()\n",
    "sudoku.imprimir_sudoku(sudoku.solucion_backtracking)\n",
    "print('El sudoku resuelto como Basic Filler:')\n",
    "sudoku.valores_basic_filler()"
   ]
  },
  {
   "cell_type": "code",
   "execution_count": 5,
   "id": "a5104733",
   "metadata": {},
   "outputs": [
    {
     "name": "stdout",
     "output_type": "stream",
     "text": [
      "\u001b[30m1 \u001b[30m0 \u001b[30m0 \u001b[30m| \u001b[30m2 \u001b[30m0 \u001b[30m0 \u001b[30m| \u001b[30m9 \u001b[30m8 \u001b[30m0 \n",
      "\u001b[30m0 \u001b[30m8 \u001b[30m2 \u001b[30m| \u001b[30m0 \u001b[30m0 \u001b[30m7 \u001b[30m| \u001b[30m0 \u001b[30m1 \u001b[30m0 \n",
      "\u001b[30m9 \u001b[30m5 \u001b[30m0 \u001b[30m| \u001b[30m0 \u001b[30m0 \u001b[30m8 \u001b[30m| \u001b[30m0 \u001b[30m0 \u001b[30m0 \n",
      "\u001b[30m------+-------+------\n",
      "\u001b[30m0 \u001b[30m0 \u001b[30m0 \u001b[30m| \u001b[30m0 \u001b[30m0 \u001b[30m0 \u001b[30m| \u001b[30m0 \u001b[30m0 \u001b[30m5 \n",
      "\u001b[30m4 \u001b[30m2 \u001b[30m5 \u001b[30m| \u001b[30m3 \u001b[30m0 \u001b[30m6 \u001b[30m| \u001b[30m0 \u001b[30m0 \u001b[30m1 \n",
      "\u001b[30m0 \u001b[30m9 \u001b[30m0 \u001b[30m| \u001b[30m0 \u001b[30m0 \u001b[30m0 \u001b[30m| \u001b[30m8 \u001b[30m3 \u001b[30m0 \n",
      "\u001b[30m------+-------+------\n",
      "\u001b[30m2 \u001b[30m0 \u001b[30m8 \u001b[30m| \u001b[30m9 \u001b[30m0 \u001b[30m5 \u001b[30m| \u001b[30m3 \u001b[30m0 \u001b[30m0 \n",
      "\u001b[30m7 \u001b[30m3 \u001b[30m4 \u001b[30m| \u001b[30m8 \u001b[30m0 \u001b[30m0 \u001b[30m| \u001b[30m1 \u001b[30m5 \u001b[30m0 \n",
      "\u001b[30m0 \u001b[30m6 \u001b[30m0 \u001b[30m| \u001b[30m7 \u001b[30m3 \u001b[30m1 \u001b[30m| \u001b[30m0 \u001b[30m4 \u001b[30m0 \n",
      "Selecciona la casilla (fila, columna): solucion\n",
      "\u001b[30m1 \u001b[30m4 \u001b[30m6 \u001b[30m| \u001b[30m2 \u001b[30m5 \u001b[30m3 \u001b[30m| \u001b[30m9 \u001b[30m8 \u001b[30m7 \n",
      "\u001b[30m3 \u001b[30m8 \u001b[30m2 \u001b[30m| \u001b[30m6 \u001b[30m9 \u001b[30m7 \u001b[30m| \u001b[30m5 \u001b[30m1 \u001b[30m4 \n",
      "\u001b[30m9 \u001b[30m5 \u001b[30m7 \u001b[30m| \u001b[30m4 \u001b[30m1 \u001b[30m8 \u001b[30m| \u001b[30m6 \u001b[30m2 \u001b[30m3 \n",
      "\u001b[30m------+-------+------\n",
      "\u001b[30m8 \u001b[30m7 \u001b[30m3 \u001b[30m| \u001b[30m1 \u001b[30m2 \u001b[30m9 \u001b[30m| \u001b[30m4 \u001b[30m6 \u001b[30m5 \n",
      "\u001b[30m4 \u001b[30m2 \u001b[30m5 \u001b[30m| \u001b[30m3 \u001b[30m8 \u001b[30m6 \u001b[30m| \u001b[30m7 \u001b[30m9 \u001b[30m1 \n",
      "\u001b[30m6 \u001b[30m9 \u001b[30m1 \u001b[30m| \u001b[30m5 \u001b[30m7 \u001b[30m4 \u001b[30m| \u001b[30m8 \u001b[30m3 \u001b[30m2 \n",
      "\u001b[30m------+-------+------\n",
      "\u001b[30m2 \u001b[30m1 \u001b[30m8 \u001b[30m| \u001b[30m9 \u001b[30m4 \u001b[30m5 \u001b[30m| \u001b[30m3 \u001b[30m7 \u001b[30m6 \n",
      "\u001b[30m7 \u001b[30m3 \u001b[30m4 \u001b[30m| \u001b[30m8 \u001b[30m6 \u001b[30m2 \u001b[30m| \u001b[30m1 \u001b[30m5 \u001b[30m9 \n",
      "\u001b[30m5 \u001b[30m6 \u001b[30m9 \u001b[30m| \u001b[30m7 \u001b[30m3 \u001b[30m1 \u001b[30m| \u001b[30m2 \u001b[30m4 \u001b[30m8 \n"
     ]
    }
   ],
   "source": [
    "sudoku = Sudoku([],[],[],[],0)\n",
    "sudoku.generador_sudoku(1)    \n",
    "sudoku2 = Juego([],[],[],[],0)\n",
    "sudoku2.generador_sudoku(2)\n",
    "sudoku2.jugar_sin_vidas()"
   ]
  }
 ],
 "metadata": {
  "kernelspec": {
   "display_name": "Python 3 (ipykernel)",
   "language": "python",
   "name": "python3"
  },
  "language_info": {
   "codemirror_mode": {
    "name": "ipython",
    "version": 3
   },
   "file_extension": ".py",
   "mimetype": "text/x-python",
   "name": "python",
   "nbconvert_exporter": "python",
   "pygments_lexer": "ipython3",
   "version": "3.11.7"
  }
 },
 "nbformat": 4,
 "nbformat_minor": 5
}
